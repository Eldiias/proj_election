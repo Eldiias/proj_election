{
 "metadata": {
  "language_info": {
   "codemirror_mode": {
    "name": "ipython",
    "version": 3
   },
   "file_extension": ".py",
   "mimetype": "text/x-python",
   "name": "python",
   "nbconvert_exporter": "python",
   "pygments_lexer": "ipython3",
   "version": "3.8.5-final"
  },
  "orig_nbformat": 2,
  "kernelspec": {
   "name": "python3",
   "display_name": "Python 3.8.5 64-bit ('working-env': venv)",
   "metadata": {
    "interpreter": {
     "hash": "37d15cff655289adc2242c3c981a5359f96822514005b929bee5548e50f0b4d3"
    }
   }
  }
 },
 "nbformat": 4,
 "nbformat_minor": 2,
 "cells": [
  {
   "cell_type": "code",
   "execution_count": 1,
   "metadata": {},
   "outputs": [
    {
     "output_type": "stream",
     "name": "stdout",
     "text": [
      "Namespace(agnostic_nms=False, augment=False, classes=None, conf_thres=0.25, device='cpu', exist_ok=False, img_size=640, iou_thres=0.45, name='exp', project='runs/detect', save_conf=False, save_txt=False, source='data/urn/test/images', update=False, view_img=False, weights=['weight/best.pt'])\n",
      "Using torch 1.7.0 CPU\n",
      "\n",
      "Fusing layers... \n",
      "Model Summary: 232 layers, 7246518 parameters, 0 gradients\n",
      "image 1/42 /home/user/Рабочий стол/Trello tasks/CV/urn_detection/inference/data/urn/test/images/%D0%BF%D0%B0%D1%80%D0%B0%D0%BC%D0%BE%D0%BD%D0%BE%D_jpg.rf.8484d5bcaa09b4f1d967ac22bbf44516.jpg: 640x640 2 urns, Done. (0.330s)\n",
      "image 2/42 /home/user/Рабочий стол/Trello tasks/CV/urn_detection/inference/data/urn/test/images/0c48f59228203ee49777d301a71e0dd1_jpg.rf.b01b0c6a6dffbdb77a064a8e6ce9f3cc.jpg: 640x640 1 urns, Done. (0.226s)\n",
      "image 3/42 /home/user/Рабочий стол/Trello tasks/CV/urn_detection/inference/data/urn/test/images/1583392751_2039523313_720-480_jpg.rf.c3c9b80027620a615a798107a073b193.jpg: 640x640 1 urns, Done. (0.223s)\n",
      "image 4/42 /home/user/Рабочий стол/Trello tasks/CV/urn_detection/inference/data/urn/test/images/1733664368_jpg.rf.f5ffad0aaa07b6e7ba067f50a9bef76b.jpg: 640x640 Done. (0.200s)\n",
      "image 5/42 /home/user/Рабочий стол/Trello tasks/CV/urn_detection/inference/data/urn/test/images/1_2-98_jpg.rf.0e5f610ace63d0a9837f9c125bc1f30b.jpg: 640x640 Done. (0.190s)\n",
      "image 6/42 /home/user/Рабочий стол/Trello tasks/CV/urn_detection/inference/data/urn/test/images/1e55abdfef02ae67d1783d8adf3c5598_jpg.rf.2aa0ade1cfdbc84f0ed202e580a241d7.jpg: 640x640 Done. (0.190s)\n",
      "image 7/42 /home/user/Рабочий стол/Trello tasks/CV/urn_detection/inference/data/urn/test/images/27161198_Nv-eritj_cAZ65vn1Gus1BeGoi50h6IjtygaMS6Ot_jpg.rf.d7813868461b62e498415e8f6000a15f.jpg: 640x640 1 urns, Done. (0.199s)\n",
      "image 8/42 /home/user/Рабочий стол/Trello tasks/CV/urn_detection/inference/data/urn/test/images/337_jpg.rf.29e2b7b260cd44ab2a3d51a05fcda31a.jpg: 640x640 1 urns, Done. (0.198s)\n",
      "image 9/42 /home/user/Рабочий стол/Trello tasks/CV/urn_detection/inference/data/urn/test/images/468436_jpg.rf.50dc14496e9e4c577c3b322053851c18.jpg: 640x640 1 urns, Done. (0.206s)\n",
      "image 10/42 /home/user/Рабочий стол/Trello tasks/CV/urn_detection/inference/data/urn/test/images/468643_jpg.rf.247da50c25dd70e3277c8da013f9579d.jpg: 640x640 1 urns, Done. (0.219s)\n",
      "image 11/42 /home/user/Рабочий стол/Trello tasks/CV/urn_detection/inference/data/urn/test/images/468850_jpg.rf.d11d77f3603c7ba85a3f2ff3fd3dcba0.jpg: 640x640 1 urns, Done. (0.198s)\n",
      "image 12/42 /home/user/Рабочий стол/Trello tasks/CV/urn_detection/inference/data/urn/test/images/468874_jpg.rf.706fe5df5fe34c810d4889387628c31a.jpg: 640x640 Done. (0.212s)\n",
      "image 13/42 /home/user/Рабочий стол/Trello tasks/CV/urn_detection/inference/data/urn/test/images/469122_jpg.rf.9bee8eff05f4ed1086e629a67cdbe9e9.jpg: 640x640 2 urns, Done. (0.195s)\n",
      "image 14/42 /home/user/Рабочий стол/Trello tasks/CV/urn_detection/inference/data/urn/test/images/469149_jpg.rf.cecf06caacdb816f6e45cc6845db80b3.jpg: 640x640 3 urns, Done. (0.201s)\n",
      "image 15/42 /home/user/Рабочий стол/Trello tasks/CV/urn_detection/inference/data/urn/test/images/469231_jpg.rf.e683776adc82c202dc5111c5c82542c9.jpg: 640x640 1 urns, Done. (0.197s)\n",
      "image 16/42 /home/user/Рабочий стол/Trello tasks/CV/urn_detection/inference/data/urn/test/images/469242_jpg.rf.316346079d22ffb9d745e0266461fc04.jpg: 640x640 3 urns, Done. (0.199s)\n",
      "image 17/42 /home/user/Рабочий стол/Trello tasks/CV/urn_detection/inference/data/urn/test/images/469319_jpg.rf.dbd421e29c5a1246422812613df02961.jpg: 640x640 2 urns, Done. (0.210s)\n",
      "image 18/42 /home/user/Рабочий стол/Trello tasks/CV/urn_detection/inference/data/urn/test/images/469528_jpg.rf.ece4fb2e24fd90c3cbf65e986d879681.jpg: 640x640 1 urns, Done. (0.204s)\n",
      "image 19/42 /home/user/Рабочий стол/Trello tasks/CV/urn_detection/inference/data/urn/test/images/469568_jpg.rf.72f9d132dc25909c58745cfbd6855136.jpg: 640x640 2 urns, Done. (0.214s)\n",
      "image 20/42 /home/user/Рабочий стол/Trello tasks/CV/urn_detection/inference/data/urn/test/images/469650_jpg.rf.06d815281f1beebb0d48c12f23a1f84b.jpg: 640x640 1 urns, Done. (0.217s)\n",
      "image 21/42 /home/user/Рабочий стол/Trello tasks/CV/urn_detection/inference/data/urn/test/images/5401474rc640x360_jpg.rf.86f2f2608bf87053fd7348f065136338.jpg: 640x640 1 urns, Done. (0.242s)\n",
      "image 22/42 /home/user/Рабочий стол/Trello tasks/CV/urn_detection/inference/data/urn/test/images/60923f7b54162e5b6eef10b5486965be_jpg.rf.a8491d52e3fac2ef3e42746cbcb099c8.jpg: 640x640 Done. (0.228s)\n",
      "image 23/42 /home/user/Рабочий стол/Trello tasks/CV/urn_detection/inference/data/urn/test/images/6d44797f699cbcb23eda05f2dd02c302_jpg.rf.c3eef516a0054f1f8cd59b7bdb8a671a.jpg: 640x640 1 urns, Done. (0.230s)\n",
      "image 24/42 /home/user/Рабочий стол/Trello tasks/CV/urn_detection/inference/data/urn/test/images/7727961a400e0b2de483d22ab05a4d43_jpg.rf.f1224485bafecb398cccca087f6c643b.jpg: 640x640 1 urns, Done. (0.227s)\n",
      "image 25/42 /home/user/Рабочий стол/Trello tasks/CV/urn_detection/inference/data/urn/test/images/77736_jpg.rf.eb534638305795a0c81d8e15d490985a.jpg: 640x640 1 urns, Done. (0.220s)\n",
      "image 26/42 /home/user/Рабочий стол/Trello tasks/CV/urn_detection/inference/data/urn/test/images/920d0dd34bcbe35659e66e9eac8cf44b_jpg.rf.9287956a915a9413166faf2d645ae592.jpg: 640x640 3 urns, Done. (0.213s)\n",
      "image 27/42 /home/user/Рабочий стол/Trello tasks/CV/urn_detection/inference/data/urn/test/images/DJVkmYDW0AAGvRv_jpg.rf.29d8f65148623380eff41442ed88e811.jpg: 640x640 2 urns, Done. (0.201s)\n",
      "image 28/42 /home/user/Рабочий стол/Trello tasks/CV/urn_detection/inference/data/urn/test/images/DSC05350_jpg.rf.0c5b5e535d5ad1a4535c2568441d3f77.jpg: 640x640 3 urns, Done. (0.213s)\n",
      "image 29/42 /home/user/Рабочий стол/Trello tasks/CV/urn_detection/inference/data/urn/test/images/DYjGapNWsAAGpfJ_jpg.rf.6fd8141f1073ce0ee59bf91e452575a9.jpg: 640x640 1 urns, Done. (0.217s)\n",
      "image 30/42 /home/user/Рабочий стол/Trello tasks/CV/urn_detection/inference/data/urn/test/images/ED7RPJyXoAA964Q_jpg.rf.d887c970773b8d7ec5da304a70ad1058.jpg: 640x640 1 urns, Done. (0.214s)\n",
      "image 31/42 /home/user/Рабочий стол/Trello tasks/CV/urn_detection/inference/data/urn/test/images/IMG_5240_jpg.rf.218978a26e35a6ee3203adeac1582db3.jpg: 640x640 2 urns, Done. (0.206s)\n",
      "image 32/42 /home/user/Рабочий стол/Trello tasks/CV/urn_detection/inference/data/urn/test/images/LI6A5617_jpg.rf.ff6683828080db4592f026a088293845.jpg: 640x640 1 urns, Done. (0.208s)\n",
      "image 33/42 /home/user/Рабочий стол/Trello tasks/CV/urn_detection/inference/data/urn/test/images/R5BxtXkjsFw_jpg.rf.b2f52d7bd54ec3c9b728f792e867a0bc.jpg: 640x640 2 urns, Done. (0.223s)\n",
      "image 34/42 /home/user/Рабочий стол/Trello tasks/CV/urn_detection/inference/data/urn/test/images/TSIK-foto_jpg.rf.42c2ff513416798b06e77e83e3a7f000.jpg: 640x640 1 urns, Done. (0.231s)\n",
      "image 35/42 /home/user/Рабочий стол/Trello tasks/CV/urn_detection/inference/data/urn/test/images/ZrJ-XGTzNSA_jpg.rf.9b0c176b0415ad14d8e524b008edb91e.jpg: 640x640 2 urns, Done. (0.216s)\n",
      "image 36/42 /home/user/Рабочий стол/Trello tasks/CV/urn_detection/inference/data/urn/test/images/b9d6c14a89b78915943f4e1cfbf30654_jpg.rf.219da5a8a3915ce0ae71fa5c404dd123.jpg: 640x640 1 urns, Done. (0.226s)\n",
      "image 37/42 /home/user/Рабочий стол/Trello tasks/CV/urn_detection/inference/data/urn/test/images/bv3_jpg.rf.fd38c55ad8e6f21cb3d0597bfb0c167c.jpg: 640x640 1 urns, Done. (0.238s)\n",
      "image 38/42 /home/user/Рабочий стол/Trello tasks/CV/urn_detection/inference/data/urn/test/images/e7fb25395e1356563af3887546f97a58_jpg.rf.70d075a0c3c458ea701328e0a1d34f12.jpg: 640x640 Done. (0.225s)\n",
      "image 39/42 /home/user/Рабочий стол/Trello tasks/CV/urn_detection/inference/data/urn/test/images/icon_jpg.rf.a84c137402f27f64f4508100eaf8d1f7.jpg: 640x640 2 urns, Done. (0.219s)\n",
      "image 40/42 /home/user/Рабочий стол/Trello tasks/CV/urn_detection/inference/data/urn/test/images/image_12602_jpg.rf.1882de8d2d1c541ea57c479d0dbcefec.jpg: 640x640 1 urns, Done. (0.213s)\n",
      "image 41/42 /home/user/Рабочий стол/Trello tasks/CV/urn_detection/inference/data/urn/test/images/izb12_jpg.rf.9a8dc282ec330cbebc548db6089efc94.jpg: 640x640 2 urns, Done. (0.219s)\n",
      "image 42/42 /home/user/Рабочий стол/Trello tasks/CV/urn_detection/inference/data/urn/test/images/orig_jpg.rf.af24ed4c7759239b8996885de9458223.jpg: 640x640 1 urns, Done. (0.226s)\n",
      "Results saved to runs/detect/exp15\n",
      "Done. (12.332s)\n"
     ]
    }
   ],
   "source": [
    "!python detect.py --source data/urn/test/images --weights 'weight/best.pt'  --device 'cpu'"
   ]
  },
  {
   "cell_type": "code",
   "execution_count": null,
   "metadata": {},
   "outputs": [],
   "source": []
  }
 ]
}